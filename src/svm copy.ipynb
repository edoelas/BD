{
 "cells": [
  {
   "cell_type": "code",
   "execution_count": 1,
   "metadata": {},
   "outputs": [],
   "source": [
    "import pandas as pd\n",
    "import plotly.express as px\n",
    "from pyspark.sql import SparkSession\n",
    "spark= SparkSession.builder.appName(\"BD\").getOrCreate()\n",
    "\n",
    "# Pipeline imports\n",
    "from pyspark.ml import Pipeline\n",
    "from pyspark.ml.feature import OneHotEncoder, VectorAssembler, StringIndexer, StandardScaler, MinMaxScaler, PCA\n",
    "from pyspark.ml.tuning import CrossValidator, ParamGridBuilder\n",
    "from pyspark.ml.evaluation import MulticlassClassificationEvaluator\n",
    "from pyspark.ml.classification import MultilayerPerceptronClassifier\n",
    "\n",
    "# read data\n",
    "data = spark.read.csv(\"../data/training.csv\", header=True, inferSchema=True, nullValue=\"\", sep=\";\")\n",
    "data = data.fillna(0, subset=[\"tempo\"])\n",
    "data = data.dropna()\n",
    "dev, test = data.randomSplit([0.9, 0.1], seed=12345)\n",
    "\n",
    "# columns\n",
    "label = [\"music_genre\"]\n",
    "categorical_features = ['key', 'mode']\n",
    "numerical_features = ['popularity','acousticness', 'danceability', 'duration_ms', 'energy', 'instrumentalness', 'liveness', 'loudness', 'speechiness', 'tempo', 'valence']"
   ]
  },
  {
   "cell_type": "code",
   "execution_count": 29,
   "metadata": {},
   "outputs": [
    {
     "name": "stdout",
     "output_type": "stream",
     "text": [
      "f1: 0.5741793905773369\n"
     ]
    }
   ],
   "source": [
    "indexer = StringIndexer(inputCols=categorical_features + label, outputCols=[col + \"_index\" for col in categorical_features + label])\n",
    "# ohe = OneHotEncoder(inputCols=[col + \"_index\" for col in categorical_features], outputCols=[col + \"_ohe\" for col in categorical_features])\n",
    "assembler = VectorAssembler(inputCols=[col + \"_index\" for col in categorical_features] + numerical_features, outputCol=\"features\")\n",
    "standard = StandardScaler(inputCol=\"features\", outputCol=\"scaled_features\")\n",
    "# pca = PCA(k=13, inputCol=\"scaled_features\", outputCol=\"pca_features\")\n",
    "estimator = MultilayerPerceptronClassifier(featuresCol=\"scaled_features\", labelCol=\"music_genre_index\")\n",
    "pipeline = Pipeline(stages=[indexer,  assembler, standard, estimator])\n",
    "\n",
    "params = (ParamGridBuilder()\n",
    "    # .addGrid(estimator.layers, [[13, 12, 8, 4, 2, 10], [13, 12, 8, 4, 2, 5], [13, 12, 8, 4, 2, 3]])\n",
    "    # .addGrid(estimator.maxIter, [100, 200, 300])\n",
    "    # .addGrid(estimator.blockSize, [128, 256, 512])\n",
    "    .addGrid(estimator.layers, [[13, 20, 20, 20, 10]])\n",
    "    .addGrid(estimator.maxIter, [2000,])\n",
    "    .addGrid(estimator.blockSize, [512])\n",
    "    .build())\n",
    "evaluator = MulticlassClassificationEvaluator(labelCol=\"music_genre_index\", predictionCol=\"prediction\", metricName=\"f1\")\n",
    "cross = CrossValidator(estimator=pipeline, estimatorParamMaps=params, evaluator=evaluator, numFolds=5)\n",
    "\n",
    "# build and train the pipeline\n",
    "model = cross.fit(dev)\n",
    "\n",
    "# evaluate the model\n",
    "predictions = model.transform(test)\n",
    "f1 = evaluator.evaluate(predictions)\n",
    "print(f\"f1: {f1}\")"
   ]
  },
  {
   "cell_type": "code",
   "execution_count": 23,
   "metadata": {},
   "outputs": [
    {
     "name": "stdout",
     "output_type": "stream",
     "text": [
      "best layers: [13, 20, 10]\n",
      "best maxIter: 100\n",
      "best blockSize: 512\n"
     ]
    }
   ],
   "source": [
    "# print best params\n",
    "best_model = model.bestModel\n",
    "best_estimator = best_model.stages[-1]\n",
    "print(f\"best layers: {best_estimator.getLayers()}\")\n",
    "print(f\"best maxIter: {best_estimator.getMaxIter()}\")\n",
    "print(f\"best blockSize: {best_estimator.getBlockSize()}\")"
   ]
  },
  {
   "cell_type": "code",
   "execution_count": 21,
   "metadata": {},
   "outputs": [
    {
     "name": "stdout",
     "output_type": "stream",
     "text": [
      "training time: [0.5708128838259379]\n"
     ]
    }
   ],
   "source": [
    "# print training time per model\n",
    "print(f\"training time: {model.avgMetrics}\")\n"
   ]
  },
  {
   "cell_type": "code",
   "execution_count": null,
   "metadata": {},
   "outputs": [],
   "source": []
  }
 ],
 "metadata": {
  "kernelspec": {
   "display_name": ".venv",
   "language": "python",
   "name": "python3"
  },
  "language_info": {
   "codemirror_mode": {
    "name": "ipython",
    "version": 3
   },
   "file_extension": ".py",
   "mimetype": "text/x-python",
   "name": "python",
   "nbconvert_exporter": "python",
   "pygments_lexer": "ipython3",
   "version": "3.10.13"
  }
 },
 "nbformat": 4,
 "nbformat_minor": 2
}
