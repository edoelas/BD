{
 "cells": [
  {
   "cell_type": "code",
   "execution_count": 39,
   "metadata": {},
   "outputs": [],
   "source": [
    "import pandas as pd\n",
    "import plotly.express as px\n",
    "from pyspark.sql import SparkSession\n",
    "spark= SparkSession.builder.appName(\"BD\").getOrCreate()\n",
    "\n",
    "# Pipeline imports\n",
    "from pyspark.ml import Pipeline\n",
    "from pyspark.ml.feature import OneHotEncoder, VectorAssembler, StringIndexer, StandardScaler, MinMaxScaler, PCA\n",
    "from pyspark.ml.tuning import CrossValidator, ParamGridBuilder\n",
    "from pyspark.ml.evaluation import MulticlassClassificationEvaluator\n",
    "from pyspark.ml.classification import LinearSVC, RandomForestClassifier, LogisticRegression, GBTClassifier\n",
    "\n",
    "# read data\n",
    "data = spark.read.csv(\"../data/training.csv\", header=True, inferSchema=True, nullValue=\"\", sep=\";\")\n",
    "data = data.fillna(0, subset=[\"tempo\"])\n",
    "data = data.dropna()\n",
    "dev, test = data.randomSplit([0.9, 0.1], seed=12345)\n",
    "\n",
    "# columns\n",
    "label = [\"music_genre\"]\n",
    "categorical_features = ['key', 'mode']\n",
    "numerical_features = ['popularity','acousticness', 'danceability', 'duration_ms', 'energy', 'instrumentalness', 'liveness', 'loudness', 'speechiness', 'tempo', 'valence']"
   ]
  },
  {
   "cell_type": "code",
   "execution_count": 48,
   "metadata": {},
   "outputs": [
    {
     "name": "stdout",
     "output_type": "stream",
     "text": [
      "f1: 0.5039532169952553\n"
     ]
    }
   ],
   "source": [
    "indexer = StringIndexer(inputCols=categorical_features + label, outputCols=[col + \"_index\" for col in categorical_features + label])\n",
    "# ohe = OneHotEncoder(inputCols=[col + \"_index\" for col in categorical_features], outputCols=[col + \"_ohe\" for col in categorical_features])\n",
    "assembler = VectorAssembler(inputCols=[col + \"_index\" for col in categorical_features] + numerical_features, outputCol=\"features\")\n",
    "standard = StandardScaler(inputCol=\"features\", outputCol=\"scaled_features\")\n",
    "# pca = PCA(k=12, inputCol=\"scaled_features\", outputCol=\"pca_features\")\n",
    "estimator = LogisticRegression(labelCol=\"music_genre_index\", featuresCol=\"scaled_features\")\n",
    "pipeline = Pipeline(stages=[indexer, ohe, assembler, standard, pca, estimator])\n",
    "\n",
    "params = (ParamGridBuilder()\n",
    "    .addGrid(estimator.regParam, [0.001]) # 0.1, 0.01, 0.001, 0.0001\n",
    "    .addGrid(estimator.elasticNetParam, [1.0])\n",
    "    .addGrid(estimator.maxIter, [100])\n",
    "    .build())\n",
    "evaluator = MulticlassClassificationEvaluator(labelCol=\"music_genre_index\", predictionCol=\"prediction\", metricName=\"f1\")\n",
    "cross = CrossValidator(estimator=pipeline, estimatorParamMaps=params, evaluator=evaluator, numFolds=5)\n",
    "\n",
    "# build and train the pipeline\n",
    "model = cross.fit(dev)\n",
    "\n",
    "# evaluate the model\n",
    "predictions = model.transform(test)\n",
    "f1 = evaluator.evaluate(predictions)\n",
    "print(f\"f1: {f1}\")"
   ]
  },
  {
   "cell_type": "code",
   "execution_count": 37,
   "metadata": {},
   "outputs": [
    {
     "name": "stdout",
     "output_type": "stream",
     "text": [
      "regParam: 0.001\n",
      "elasticNetParam: 1.0\n",
      "maxIter: 100\n"
     ]
    }
   ],
   "source": [
    "# print best params\n",
    "best_model = model.bestModel\n",
    "best_estimator = best_model.stages[-1]\n",
    "print(f\"regParam: {best_estimator.getRegParam()}\")\n",
    "print(f\"elasticNetParam: {best_estimator.getElasticNetParam()}\")\n",
    "print(f\"maxIter: {best_estimator.getMaxIter()}\")"
   ]
  },
  {
   "cell_type": "code",
   "execution_count": null,
   "metadata": {},
   "outputs": [],
   "source": []
  }
 ],
 "metadata": {
  "kernelspec": {
   "display_name": ".venv",
   "language": "python",
   "name": "python3"
  },
  "language_info": {
   "codemirror_mode": {
    "name": "ipython",
    "version": 3
   },
   "file_extension": ".py",
   "mimetype": "text/x-python",
   "name": "python",
   "nbconvert_exporter": "python",
   "pygments_lexer": "ipython3",
   "version": "3.10.13"
  }
 },
 "nbformat": 4,
 "nbformat_minor": 2
}
