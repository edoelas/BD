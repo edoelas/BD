{
 "cells": [
  {
   "cell_type": "code",
   "execution_count": 7,
   "metadata": {},
   "outputs": [],
   "source": [
    "import pandas as pd\n",
    "import plotly.express as px\n",
    "from pyspark.sql import SparkSession\n",
    "spark= SparkSession.builder.appName(\"BD\").getOrCreate()\n",
    "\n",
    "# Pipeline imports\n",
    "from pyspark.ml import Pipeline\n",
    "from pyspark.ml.feature import OneHotEncoder, VectorAssembler, StringIndexer, StandardScaler, MinMaxScaler\n",
    "from pyspark.ml.tuning import CrossValidator, ParamGridBuilder\n",
    "from pyspark.ml.evaluation import MulticlassClassificationEvaluator\n",
    "from pyspark.ml.classification import RandomForestClassifier\n",
    "\n",
    "# read data\n",
    "data = spark.read.csv(\"../data/training.csv\", header=True, inferSchema=True, nullValue=\"\", sep=\";\")\n",
    "data = data.fillna(0, subset=[\"tempo\"])\n",
    "data = data.dropna()\n",
    "dev, test = data.randomSplit([0.9, 0.1], seed=12345)\n",
    "\n",
    "# columns\n",
    "label = [\"music_genre\"]\n",
    "categorical_features = ['key', 'mode']\n",
    "numerical_features = ['popularity','acousticness', 'danceability', 'duration_ms', 'energy', 'instrumentalness', 'liveness', 'loudness', 'speechiness', 'tempo', 'valence']"
   ]
  },
  {
   "cell_type": "code",
   "execution_count": 9,
   "metadata": {},
   "outputs": [],
   "source": [
    "\n",
    "\n",
    "# preprocessing\n",
    "indexer = StringIndexer(inputCols=categorical_features + label, outputCols=[col + \"_index\" for col in categorical_features + label])\n",
    "# ohe = OneHotEncoder(inputCols=[col + \"_index\" for col in categorical_features], outputCols=[col + \"_ohe\" for col in categorical_features])\n",
    "assembler = VectorAssembler(inputCols=[col + \"_index\" for col in categorical_features] + numerical_features, outputCol=\"features\")\n",
    "standard = StandardScaler(inputCol=\"features\", outputCol=\"scaled_features\")\n",
    "\n",
    "# cross validation\n",
    "estimator = RandomForestClassifier(labelCol=\"music_genre_index\", featuresCol=\"scaled_features\")\n",
    "estimator_params = ParamGridBuilder().addGrid(RandomForestClassifier.numTrees, [10, 20, 30]).build()\n",
    "evaluator = MulticlassClassificationEvaluator(labelCol=\"music_genre_index\", predictionCol=\"prediction\", metricName=\"f1\")\n",
    "cross = CrossValidator(estimator=estimator, estimatorParamMaps=estimator_params, evaluator=evaluator, numFolds=10)\n",
    "\n",
    "# build and train the pipeline\n",
    "pipeline = Pipeline(stages=[indexer, assembler, standard, cross])\n",
    "model = pipeline.fit(dev)"
   ]
  },
  {
   "cell_type": "code",
   "execution_count": 10,
   "metadata": {},
   "outputs": [
    {
     "name": "stdout",
     "output_type": "stream",
     "text": [
      "F1 score:  0.48845460974074956\n"
     ]
    }
   ],
   "source": [
    "\n",
    "# evaluate the model\n",
    "predictions = model.transform(test)\n",
    "f1 = evaluator.evaluate(predictions)\n",
    "print(\"F1 score: \", f1)\n"
   ]
  },
  {
   "cell_type": "code",
   "execution_count": null,
   "metadata": {},
   "outputs": [],
   "source": []
  }
 ],
 "metadata": {
  "kernelspec": {
   "display_name": ".venv",
   "language": "python",
   "name": "python3"
  },
  "language_info": {
   "codemirror_mode": {
    "name": "ipython",
    "version": 3
   },
   "file_extension": ".py",
   "mimetype": "text/x-python",
   "name": "python",
   "nbconvert_exporter": "python",
   "pygments_lexer": "ipython3",
   "version": "3.10.13"
  }
 },
 "nbformat": 4,
 "nbformat_minor": 2
}
